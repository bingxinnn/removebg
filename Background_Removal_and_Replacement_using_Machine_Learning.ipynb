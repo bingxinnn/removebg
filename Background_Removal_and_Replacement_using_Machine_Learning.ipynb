{
  "nbformat": 4,
  "nbformat_minor": 0,
  "metadata": {
    "colab": {
      "provenance": []
    },
    "kernelspec": {
      "name": "python3",
      "display_name": "Python 3"
    },
    "language_info": {
      "name": "python"
    }
  },
  "cells": [
    {
      "cell_type": "code",
      "execution_count": 1,
      "metadata": {
        "id": "ljNCMq84E0rb"
      },
      "outputs": [],
      "source": [
        "# https://github.com/danielgatis/rembg\n",
        "# https://arxiv.org/pdf/2005.09007.pdf\n",
        "\n",
        "# !pip install rembg"
      ]
    },
    {
      "cell_type": "code",
      "source": [
        "# !pip install -U pillow"
      ],
      "metadata": {
        "id": "k-7lhXjLi2yc"
      },
      "execution_count": 2,
      "outputs": []
    },
    {
      "cell_type": "code",
      "source": [
        "from rembg import remove\n",
        "import requests\n",
        "from PIL import Image\n",
        "from io import BytesIO\n",
        "import os"
      ],
      "metadata": {
        "id": "Ef_TxOMRQlEW"
      },
      "execution_count": 4,
      "outputs": []
    },
    {
      "cell_type": "code",
      "source": [
        "os.makedirs('original', exist_ok=True)\n",
        "os.makedirs('masked', exist_ok=True)"
      ],
      "metadata": {
        "id": "KNYcWrYnhaJk"
      },
      "execution_count": 5,
      "outputs": []
    },
    {
      "cell_type": "code",
      "source": [
        "img_url = 'https://nationaltoday.com/wp-content/uploads/2020/12/National-Horse-Day-1-640x514.jpg'\n",
        "img_name = img_url.split('/')[-1]\n",
        "img_name"
      ],
      "metadata": {
        "colab": {
          "base_uri": "https://localhost:8080/",
          "height": 35
        },
        "id": "qOFshk-Whofm",
        "outputId": "a0c4e1cc-de00-48eb-ce6f-091a4c138241"
      },
      "execution_count": 6,
      "outputs": [
        {
          "output_type": "execute_result",
          "data": {
            "text/plain": [
              "'National-Horse-Day-1-640x514.jpg'"
            ],
            "application/vnd.google.colaboratory.intrinsic+json": {
              "type": "string"
            }
          },
          "metadata": {},
          "execution_count": 6
        }
      ]
    },
    {
      "cell_type": "code",
      "source": [
        "img = Image.open(BytesIO(requests.get(img_url).content))\n",
        "img.save('original/'+img_name, format='jpeg')"
      ],
      "metadata": {
        "id": "nndO6jBpiAPu"
      },
      "execution_count": 7,
      "outputs": []
    },
    {
      "cell_type": "code",
      "source": [
        "output_path = 'masked/'+img_name\n",
        "output_path"
      ],
      "metadata": {
        "colab": {
          "base_uri": "https://localhost:8080/",
          "height": 35
        },
        "id": "_4IhOeQGjIRD",
        "outputId": "62892874-a5be-4b08-e8ef-e54185eaaaec"
      },
      "execution_count": 8,
      "outputs": [
        {
          "output_type": "execute_result",
          "data": {
            "text/plain": [
              "'masked/National-Horse-Day-1-640x514.jpg'"
            ],
            "application/vnd.google.colaboratory.intrinsic+json": {
              "type": "string"
            }
          },
          "metadata": {},
          "execution_count": 8
        }
      ]
    },
    {
      "cell_type": "code",
      "source": [
        "with open(output_path, 'wb') as f:\n",
        "  input = open('original/'+img_name, 'rb').read()\n",
        "  subject = remove(input, alpha_matting=True, alpha_matting_foreground_threshold=50)\n",
        "  f.write(subject)"
      ],
      "metadata": {
        "id": "ZnX0vnOVjYEQ"
      },
      "execution_count": 12,
      "outputs": []
    },
    {
      "cell_type": "code",
      "source": [
        "background_img = 'https://iso.500px.com/wp-content/uploads/2014/07/big-one.jpg'\n",
        "background_img = Image.open(BytesIO(requests.get(background_img).content))\n",
        "\n",
        "background_img = background_img.resize((img.width, img.height))\n",
        "\n",
        "foreground_img = Image.open(output_path)\n",
        "background_img.paste(foreground_img, (0,0), foreground_img)\n",
        "background_img.save('masked/background.jpg', format='jpeg')"
      ],
      "metadata": {
        "id": "5558C8C7jYBb"
      },
      "execution_count": 15,
      "outputs": []
    },
    {
      "cell_type": "code",
      "source": [],
      "metadata": {
        "id": "8FiCmVdMjX8V"
      },
      "execution_count": null,
      "outputs": []
    }
  ]
}